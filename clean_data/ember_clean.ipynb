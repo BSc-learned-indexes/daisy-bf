{
 "cells": [
  {
   "cell_type": "code",
   "execution_count": 13,
   "metadata": {},
   "outputs": [],
   "source": [
    "import pandas as pd "
   ]
  },
  {
   "cell_type": "code",
   "execution_count": 14,
   "metadata": {},
   "outputs": [],
   "source": [
    "# paths\n",
    "ember_path = \"./original/\"\n",
    "data_output_path = \"./processed_data/\"\n",
    "chunk_size = 50_000"
   ]
  },
  {
   "cell_type": "code",
   "execution_count": 15,
   "metadata": {},
   "outputs": [],
   "source": [
    "import os \n",
    "isExist = os.path.exists(data_output_path)\n",
    "if not isExist:\n",
    "\n",
    "   # Create a new directory because it does not exist\n",
    "   os.makedirs(data_output_path)\n",
    "   print(\"The new directory is created!\")"
   ]
  },
  {
   "cell_type": "code",
   "execution_count": 16,
   "metadata": {},
   "outputs": [
    {
     "name": "stdout",
     "output_type": "stream",
     "text": [
      "processing dataset: 0\n",
      "processing dataset: 1\n",
      "processing dataset: 2\n",
      "processing dataset: 3\n",
      "processing dataset: 4\n",
      "processing dataset: 5\n"
     ]
    }
   ],
   "source": [
    "for x in range(6):\n",
    "    print(f\"processing dataset: {x}\")\n",
    "    df = pd.read_json(f\"{ember_path}train_features_{x}.jsonl\", lines=True, chunksize=chunk_size)\n",
    "    \n",
    "    i = 0\n",
    "    for chunk in df:\n",
    "        chunk.head()\n",
    "        new_json = chunk.to_json(orient='records', lines=True)\n",
    "        with open(f\"{data_output_path}train_features_{x}_{i}.jsonl\", \"w\") as outfile:\n",
    "            outfile.write(new_json)\n",
    "        i += 1"
   ]
  }
 ],
 "metadata": {
  "kernelspec": {
   "display_name": "ember",
   "language": "python",
   "name": "python3"
  },
  "language_info": {
   "codemirror_mode": {
    "name": "ipython",
    "version": 3
   },
   "file_extension": ".py",
   "mimetype": "text/x-python",
   "name": "python",
   "nbconvert_exporter": "python",
   "pygments_lexer": "ipython3",
   "version": "3.10.6"
  },
  "orig_nbformat": 4,
  "vscode": {
   "interpreter": {
    "hash": "afe458a54e24b913d025b86f9d43c7646581ba85fb9daeb232a7225f6335615a"
   }
  }
 },
 "nbformat": 4,
 "nbformat_minor": 2
}
