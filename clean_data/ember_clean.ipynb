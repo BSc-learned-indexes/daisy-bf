{
 "cells": [
  {
   "cell_type": "code",
   "execution_count": 2,
   "metadata": {},
   "outputs": [],
   "source": [
    "import pandas as pd "
   ]
  },
  {
   "cell_type": "code",
   "execution_count": 10,
   "metadata": {},
   "outputs": [],
   "source": [
    "for x in range(6):\n",
    "    df = pd.read_json(\"../original/train_features_\" + str(x) + \".jsonl\", lines=True)\n",
    "    df = df[df.label != -1]\n",
    "    df.head()\n",
    "    new_json = df.to_json(orient='records', lines=True)\n",
    "    with open(\"train_features_\" + str(x) + \".jsonl\", \"w\") as outfile:\n",
    "        outfile.write(new_json)"
   ]
  }
 ],
 "metadata": {
  "kernelspec": {
   "display_name": "venv",
   "language": "python",
   "name": "python3"
  },
  "language_info": {
   "codemirror_mode": {
    "name": "ipython",
    "version": 3
   },
   "file_extension": ".py",
   "mimetype": "text/x-python",
   "name": "python",
   "nbconvert_exporter": "python",
   "pygments_lexer": "ipython3",
   "version": "3.9.6"
  },
  "orig_nbformat": 4,
  "vscode": {
   "interpreter": {
    "hash": "2ae15a5359be9c751d3de7eeed10cd67b017acc1f3a363b988498186de3fda26"
   }
  }
 },
 "nbformat": 4,
 "nbformat_minor": 2
}
