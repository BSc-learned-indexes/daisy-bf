{
 "cells": [
  {
   "cell_type": "code",
   "execution_count": 15,
   "metadata": {},
   "outputs": [],
   "source": [
    "import numpy as np \n",
    "import pandas as pd \n",
    "\n",
    "import matplotlib.pyplot as plt\n",
    "import seaborn as sns\n",
    "\n",
    "from urllib.parse import urlparse\n",
    "from tld import get_tld\n",
    "import os.path\n",
    "import re\n",
    "\n",
    "import os"
   ]
  },
  {
   "cell_type": "code",
   "execution_count": 22,
   "metadata": {},
   "outputs": [
    {
     "name": "stdout",
     "output_type": "stream",
     "text": [
      "(1, 5)\n",
      "(1, 5)\n"
     ]
    }
   ],
   "source": [
    "path = \"../data/scores/syntetic_zipfean\"\n",
    "data = pd.read_csv(f'{path}.csv')\n",
    "data_qx = pd.read_csv(f'{path}_with_qx.csv')\n",
    "\n",
    "# data_qx = data_qx.drop(['qx', 'query_count'], axis=1)\n",
    "\n",
    "# data_qx.head()\n",
    "\n",
    "# print(data.equals(data_qx))\n",
    "\n",
    "\n",
    "negative = data_qx.loc[(data_qx['label']==-1)]\n",
    "\n",
    "filtered_df = negative[negative['query_count'] == 0.0]\n",
    "\n",
    "filtered_df_0 = negative[negative['query_count'] == 0]\n",
    "\n",
    "\n",
    "filtered_df.head()\n",
    "\n",
    "print(filtered_df.shape)\n",
    "\n",
    "print(filtered_df_0.shape)\n"
   ]
  }
 ],
 "metadata": {
  "kernelspec": {
   "display_name": "malicious_urls",
   "language": "python",
   "name": "python3"
  },
  "language_info": {
   "codemirror_mode": {
    "name": "ipython",
    "version": 3
   },
   "file_extension": ".py",
   "mimetype": "text/x-python",
   "name": "python",
   "nbconvert_exporter": "python",
   "pygments_lexer": "ipython3",
   "version": "3.9.6"
  },
  "orig_nbformat": 4
 },
 "nbformat": 4,
 "nbformat_minor": 2
}
