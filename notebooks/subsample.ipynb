{
 "cells": [
  {
   "cell_type": "code",
   "execution_count": 2,
   "metadata": {},
   "outputs": [],
   "source": [
    "import numpy as np \n",
    "import pandas as pd \n",
    "\n",
    "import matplotlib.pyplot as plt\n",
    "import seaborn as sns\n",
    "\n",
    "from urllib.parse import urlparse\n",
    "from tld import get_tld\n",
    "import os.path\n",
    "import re\n",
    "\n",
    "import os"
   ]
  },
  {
   "cell_type": "code",
   "execution_count": 22,
   "metadata": {},
   "outputs": [
    {
     "name": "stdout",
     "output_type": "stream",
     "text": [
      "(345, 3)\n",
      "(345738, 3)\n",
      "(346083, 3)\n"
     ]
    }
   ],
   "source": [
    "path = \"../experiments/url/rfc_good/model/exported_urls.csv\"\n",
    "urldata = pd.read_csv(path)\n",
    "urldata.head()\n",
    "postitive = urldata.loc[(urldata['label']==1)]\n",
    "negative = urldata.loc[(urldata['label']==-1)]\n",
    "\n",
    "pos_sample = postitive.sample(n=345,random_state=42)\n",
    "\n",
    "merged = pd.concat([pos_sample, negative])\n",
    "\n",
    "\n",
    "print(pos_sample.shape)\n",
    "print(negative.shape)\n",
    "print(merged.shape)\n",
    "\n",
    "\n",
    "merged.head()\n",
    "\n",
    "merged.to_csv(\"../experiments/url/rfc_good/model/exported_urls_subsample_345_pos.csv\", index=False)\n",
    "\n",
    "\n",
    "\n"
   ]
  }
 ],
 "metadata": {
  "kernelspec": {
   "display_name": "malicious_urls",
   "language": "python",
   "name": "python3"
  },
  "language_info": {
   "codemirror_mode": {
    "name": "ipython",
    "version": 3
   },
   "file_extension": ".py",
   "mimetype": "text/x-python",
   "name": "python",
   "nbconvert_exporter": "python",
   "pygments_lexer": "ipython3",
   "version": "3.9.6"
  },
  "orig_nbformat": 4
 },
 "nbformat": 4,
 "nbformat_minor": 2
}
